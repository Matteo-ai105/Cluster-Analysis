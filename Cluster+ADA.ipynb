{
 "cells": [
  {
   "cell_type": "markdown",
   "metadata": {},
   "source": [
    "Descriptive Analysis after Two-Step Cluster Analysis"
   ]
  },
  {
   "cell_type": "code",
   "execution_count": 4,
   "metadata": {},
   "outputs": [],
   "source": [
    "import pandas as pd\n",
    "import matplotlib.pyplot as plt\n",
    "import numpy as np\n",
    "import os"
   ]
  },
  {
   "cell_type": "code",
   "execution_count": 8,
   "metadata": {},
   "outputs": [],
   "source": [
    "os.chdir('C:\\\\Users\\\\gmgno\\\\OneDrive\\\\Desktop\\\\University\\\\Adaptive Learning\\\\PROFFILO')"
   ]
  },
  {
   "cell_type": "code",
   "execution_count": 10,
   "metadata": {},
   "outputs": [
    {
     "data": {
      "text/html": [
       "<div>\n",
       "<style scoped>\n",
       "    .dataframe tbody tr th:only-of-type {\n",
       "        vertical-align: middle;\n",
       "    }\n",
       "\n",
       "    .dataframe tbody tr th {\n",
       "        vertical-align: top;\n",
       "    }\n",
       "\n",
       "    .dataframe thead th {\n",
       "        text-align: right;\n",
       "    }\n",
       "</style>\n",
       "<table border=\"1\" class=\"dataframe\">\n",
       "  <thead>\n",
       "    <tr style=\"text-align: right;\">\n",
       "      <th></th>\n",
       "      <th>raven</th>\n",
       "      <th>motion</th>\n",
       "      <th>vispa</th>\n",
       "      <th>nwrt</th>\n",
       "      <th>wm</th>\n",
       "      <th>output</th>\n",
       "    </tr>\n",
       "  </thead>\n",
       "  <tbody>\n",
       "    <tr>\n",
       "      <th>0</th>\n",
       "      <td>1</td>\n",
       "      <td>14</td>\n",
       "      <td>13</td>\n",
       "      <td>6</td>\n",
       "      <td>5</td>\n",
       "      <td>1</td>\n",
       "    </tr>\n",
       "    <tr>\n",
       "      <th>1</th>\n",
       "      <td>2</td>\n",
       "      <td>4</td>\n",
       "      <td>20</td>\n",
       "      <td>2</td>\n",
       "      <td>11</td>\n",
       "      <td>1</td>\n",
       "    </tr>\n",
       "    <tr>\n",
       "      <th>2</th>\n",
       "      <td>2</td>\n",
       "      <td>8</td>\n",
       "      <td>23</td>\n",
       "      <td>2</td>\n",
       "      <td>10</td>\n",
       "      <td>1</td>\n",
       "    </tr>\n",
       "    <tr>\n",
       "      <th>3</th>\n",
       "      <td>2</td>\n",
       "      <td>4</td>\n",
       "      <td>29</td>\n",
       "      <td>5</td>\n",
       "      <td>11</td>\n",
       "      <td>2</td>\n",
       "    </tr>\n",
       "    <tr>\n",
       "      <th>4</th>\n",
       "      <td>5</td>\n",
       "      <td>4</td>\n",
       "      <td>32</td>\n",
       "      <td>2</td>\n",
       "      <td>4</td>\n",
       "      <td>1</td>\n",
       "    </tr>\n",
       "    <tr>\n",
       "      <th>5</th>\n",
       "      <td>3</td>\n",
       "      <td>7</td>\n",
       "      <td>27</td>\n",
       "      <td>2</td>\n",
       "      <td>8</td>\n",
       "      <td>1</td>\n",
       "    </tr>\n",
       "    <tr>\n",
       "      <th>6</th>\n",
       "      <td>1</td>\n",
       "      <td>5</td>\n",
       "      <td>30</td>\n",
       "      <td>1</td>\n",
       "      <td>8</td>\n",
       "      <td>1</td>\n",
       "    </tr>\n",
       "    <tr>\n",
       "      <th>7</th>\n",
       "      <td>6</td>\n",
       "      <td>10</td>\n",
       "      <td>12</td>\n",
       "      <td>1</td>\n",
       "      <td>3</td>\n",
       "      <td>1</td>\n",
       "    </tr>\n",
       "    <tr>\n",
       "      <th>8</th>\n",
       "      <td>1</td>\n",
       "      <td>4</td>\n",
       "      <td>22</td>\n",
       "      <td>2</td>\n",
       "      <td>10</td>\n",
       "      <td>1</td>\n",
       "    </tr>\n",
       "    <tr>\n",
       "      <th>9</th>\n",
       "      <td>3</td>\n",
       "      <td>8</td>\n",
       "      <td>26</td>\n",
       "      <td>7</td>\n",
       "      <td>3</td>\n",
       "      <td>1</td>\n",
       "    </tr>\n",
       "  </tbody>\n",
       "</table>\n",
       "</div>"
      ],
      "text/plain": [
       "   raven  motion  vispa  nwrt  wm  output\n",
       "0      1      14     13     6   5       1\n",
       "1      2       4     20     2  11       1\n",
       "2      2       8     23     2  10       1\n",
       "3      2       4     29     5  11       2\n",
       "4      5       4     32     2   4       1\n",
       "5      3       7     27     2   8       1\n",
       "6      1       5     30     1   8       1\n",
       "7      6      10     12     1   3       1\n",
       "8      1       4     22     2  10       1\n",
       "9      3       8     26     7   3       1"
      ]
     },
     "execution_count": 10,
     "metadata": {},
     "output_type": "execute_result"
    }
   ],
   "source": [
    "data = pd.read_excel('Standardization_cluster.xlsx')\n",
    "data.head(10)"
   ]
  },
  {
   "cell_type": "code",
   "execution_count": 13,
   "metadata": {},
   "outputs": [
    {
     "data": {
      "text/html": [
       "<div>\n",
       "<style scoped>\n",
       "    .dataframe tbody tr th:only-of-type {\n",
       "        vertical-align: middle;\n",
       "    }\n",
       "\n",
       "    .dataframe tbody tr th {\n",
       "        vertical-align: top;\n",
       "    }\n",
       "\n",
       "    .dataframe thead th {\n",
       "        text-align: right;\n",
       "    }\n",
       "</style>\n",
       "<table border=\"1\" class=\"dataframe\">\n",
       "  <thead>\n",
       "    <tr style=\"text-align: right;\">\n",
       "      <th></th>\n",
       "      <th>raven</th>\n",
       "      <th>motion</th>\n",
       "      <th>vispa</th>\n",
       "      <th>nwrt</th>\n",
       "      <th>wm</th>\n",
       "      <th>output</th>\n",
       "    </tr>\n",
       "  </thead>\n",
       "  <tbody>\n",
       "    <tr>\n",
       "      <th>0</th>\n",
       "      <td>1</td>\n",
       "      <td>14</td>\n",
       "      <td>13</td>\n",
       "      <td>6</td>\n",
       "      <td>5</td>\n",
       "      <td>1</td>\n",
       "    </tr>\n",
       "    <tr>\n",
       "      <th>1</th>\n",
       "      <td>2</td>\n",
       "      <td>4</td>\n",
       "      <td>20</td>\n",
       "      <td>2</td>\n",
       "      <td>11</td>\n",
       "      <td>1</td>\n",
       "    </tr>\n",
       "    <tr>\n",
       "      <th>2</th>\n",
       "      <td>2</td>\n",
       "      <td>8</td>\n",
       "      <td>23</td>\n",
       "      <td>2</td>\n",
       "      <td>10</td>\n",
       "      <td>1</td>\n",
       "    </tr>\n",
       "    <tr>\n",
       "      <th>4</th>\n",
       "      <td>5</td>\n",
       "      <td>4</td>\n",
       "      <td>32</td>\n",
       "      <td>2</td>\n",
       "      <td>4</td>\n",
       "      <td>1</td>\n",
       "    </tr>\n",
       "    <tr>\n",
       "      <th>5</th>\n",
       "      <td>3</td>\n",
       "      <td>7</td>\n",
       "      <td>27</td>\n",
       "      <td>2</td>\n",
       "      <td>8</td>\n",
       "      <td>1</td>\n",
       "    </tr>\n",
       "  </tbody>\n",
       "</table>\n",
       "</div>"
      ],
      "text/plain": [
       "   raven  motion  vispa  nwrt  wm  output\n",
       "0      1      14     13     6   5       1\n",
       "1      2       4     20     2  11       1\n",
       "2      2       8     23     2  10       1\n",
       "4      5       4     32     2   4       1\n",
       "5      3       7     27     2   8       1"
      ]
     },
     "execution_count": 13,
     "metadata": {},
     "output_type": "execute_result"
    }
   ],
   "source": [
    "data_1 = data[data['output']==1]\n",
    "data_1.head()"
   ]
  },
  {
   "cell_type": "code",
   "execution_count": 14,
   "metadata": {},
   "outputs": [
    {
     "data": {
      "text/html": [
       "<div>\n",
       "<style scoped>\n",
       "    .dataframe tbody tr th:only-of-type {\n",
       "        vertical-align: middle;\n",
       "    }\n",
       "\n",
       "    .dataframe tbody tr th {\n",
       "        vertical-align: top;\n",
       "    }\n",
       "\n",
       "    .dataframe thead th {\n",
       "        text-align: right;\n",
       "    }\n",
       "</style>\n",
       "<table border=\"1\" class=\"dataframe\">\n",
       "  <thead>\n",
       "    <tr style=\"text-align: right;\">\n",
       "      <th></th>\n",
       "      <th>raven</th>\n",
       "      <th>motion</th>\n",
       "      <th>vispa</th>\n",
       "      <th>nwrt</th>\n",
       "      <th>wm</th>\n",
       "      <th>output</th>\n",
       "    </tr>\n",
       "  </thead>\n",
       "  <tbody>\n",
       "    <tr>\n",
       "      <th>3</th>\n",
       "      <td>2</td>\n",
       "      <td>4</td>\n",
       "      <td>29</td>\n",
       "      <td>5</td>\n",
       "      <td>11</td>\n",
       "      <td>2</td>\n",
       "    </tr>\n",
       "    <tr>\n",
       "      <th>18</th>\n",
       "      <td>1</td>\n",
       "      <td>4</td>\n",
       "      <td>27</td>\n",
       "      <td>1</td>\n",
       "      <td>10</td>\n",
       "      <td>2</td>\n",
       "    </tr>\n",
       "    <tr>\n",
       "      <th>26</th>\n",
       "      <td>0</td>\n",
       "      <td>6</td>\n",
       "      <td>31</td>\n",
       "      <td>2</td>\n",
       "      <td>14</td>\n",
       "      <td>2</td>\n",
       "    </tr>\n",
       "    <tr>\n",
       "      <th>30</th>\n",
       "      <td>0</td>\n",
       "      <td>4</td>\n",
       "      <td>31</td>\n",
       "      <td>3</td>\n",
       "      <td>11</td>\n",
       "      <td>2</td>\n",
       "    </tr>\n",
       "    <tr>\n",
       "      <th>32</th>\n",
       "      <td>2</td>\n",
       "      <td>1</td>\n",
       "      <td>31</td>\n",
       "      <td>2</td>\n",
       "      <td>13</td>\n",
       "      <td>2</td>\n",
       "    </tr>\n",
       "  </tbody>\n",
       "</table>\n",
       "</div>"
      ],
      "text/plain": [
       "    raven  motion  vispa  nwrt  wm  output\n",
       "3       2       4     29     5  11       2\n",
       "18      1       4     27     1  10       2\n",
       "26      0       6     31     2  14       2\n",
       "30      0       4     31     3  11       2\n",
       "32      2       1     31     2  13       2"
      ]
     },
     "execution_count": 14,
     "metadata": {},
     "output_type": "execute_result"
    }
   ],
   "source": [
    "data_2 = data[data['output']==2]\n",
    "data_2.head()"
   ]
  },
  {
   "cell_type": "code",
   "execution_count": 18,
   "metadata": {},
   "outputs": [
    {
     "name": "stdout",
     "output_type": "stream",
     "text": [
      "2.8676470588235294\n",
      "7.323529411764706\n",
      "22.58823529411765\n",
      "2.426470588235294\n",
      "7.485294117647059\n"
     ]
    }
   ],
   "source": [
    "mean_raven_1 = data_1['raven'].mean()\n",
    "mean_motion_1 = data_1['motion'].mean()\n",
    "mean_vispa_1 = data_1['vispa'].mean()\n",
    "mean_nwrt_1 = data_1['nwrt'].mean()\n",
    "mean_wm_1 = data_1['wm'].mean()\n",
    "print(mean_raven_1)\n",
    "print(mean_motion_1)\n",
    "print(mean_vispa_1)\n",
    "print(mean_nwrt_1)\n",
    "print(mean_wm_1)"
   ]
  },
  {
   "cell_type": "code",
   "execution_count": 19,
   "metadata": {},
   "outputs": [
    {
     "name": "stdout",
     "output_type": "stream",
     "text": [
      "1.608695652173913\n",
      "5.3478260869565215\n",
      "28.195652173913043\n",
      "2.4130434782608696\n",
      "13.91304347826087\n"
     ]
    }
   ],
   "source": [
    "mean_raven_2 = data_2['raven'].mean()\n",
    "mean_motion_2 = data_2['motion'].mean()\n",
    "mean_vispa_2 = data_2['vispa'].mean()\n",
    "mean_nwrt_2 = data_2['nwrt'].mean()\n",
    "mean_wm_2 = data_2['wm'].mean()\n",
    "print(mean_raven_2)\n",
    "print(mean_motion_2)\n",
    "print(mean_vispa_2)\n",
    "print(mean_nwrt_2)\n",
    "print(mean_wm_2)"
   ]
  },
  {
   "cell_type": "code",
   "execution_count": 52,
   "metadata": {},
   "outputs": [
    {
     "data": {
      "image/png": "[encoded data removed]",
      "text/plain": [
       "<Figure size 432x288 with 1 Axes>"
      ]
     },
     "metadata": {
      "needs_background": "light"
     },
     "output_type": "display_data"
    }
   ],
   "source": [
    "labels = ['raven', 'motion', 'vispa', 'nwrt', 'wm']\n",
    "means_cluster_1 = [mean_raven_1, mean_motion_1, mean_vispa_1, mean_nwrt_1, mean_wm_1]\n",
    "means_cluster_2 = [mean_raven_2, mean_motion_2, mean_vispa_2, mean_nwrt_2, mean_wm_2]\n",
    "\n",
    "x = np.arange(len(labels))  # the label locations\n",
    "width = 0.35  # the width of the bars\n",
    "\n",
    "fig, ax = plt.subplots()\n",
    "rects1 = ax.bar(x - width/2, means_cluster_1, width, color = 'orange', label='Cluster 1')\n",
    "rects2 = ax.bar(x + width/2, means_cluster_2, width, color = 'black', label='Cluster 2')\n",
    "\n",
    "# Add some text for labels, title and custom x-axis tick labels, etc.\n",
    "ax.set_ylabel('Mean Scores')\n",
    "ax.set_title('Clusters description')\n",
    "ax.set_xticks(x)\n",
    "ax.set_xticklabels(labels)\n",
    "ax.legend()\n",
    "\n",
    "#ax.bar_label(rects1, padding=3)\n",
    "#ax.bar_label(rects2, padding=3)\n",
    "\n",
    "fig.tight_layout()\n",
    "\n",
    "plt.show()"
   ]
  },
  {
   "cell_type": "raw",
   "metadata": {},
   "source": [
    "Using an Artificial intelligence approach to the clusters output"
   ]
  },
  {
   "cell_type": "code",
   "execution_count": 38,
   "metadata": {},
   "outputs": [],
   "source": [
    "from sklearn.preprocessing import MinMaxScaler\n",
    "from sklearn.tree import DecisionTreeClassifier\n",
    "from sklearn.ensemble import AdaBoostClassifier\n",
    "from sklearn.model_selection import train_test_split\n",
    "from sklearn.metrics import accuracy_score\n",
    "import collections\n",
    "from collections import Counter\n",
    "import statistics "
   ]
  },
  {
   "cell_type": "code",
   "execution_count": 40,
   "metadata": {},
   "outputs": [
    {
     "name": "stdout",
     "output_type": "stream",
     "text": [
      "   raven  motion  vispa  nwrt  wm\n",
      "0      1      14     13     6   5\n",
      "1      2       4     20     2  11\n",
      "2      2       8     23     2  10\n",
      "3      2       4     29     5  11\n",
      "4      5       4     32     2   4\n"
     ]
    }
   ],
   "source": [
    "data['output'] = data['output'].astype('category')\n",
    "response = 'output'\n",
    "predictors = data.columns\n",
    "predictors = data.drop(['output'], axis = 1)\n",
    "print(predictors.head())"
   ]
  },
  {
   "cell_type": "code",
   "execution_count": 46,
   "metadata": {},
   "outputs": [
    {
     "name": "stdout",
     "output_type": "stream",
     "text": [
      "      raven    motion     vispa      nwrt        wm\n",
      "0  0.111111  0.722222  0.111111  0.714286  0.214286\n",
      "1  0.222222  0.166667  0.370370  0.142857  0.642857\n",
      "2  0.222222  0.388889  0.481481  0.142857  0.571429\n",
      "3  0.222222  0.166667  0.703704  0.571429  0.642857\n",
      "4  0.555556  0.166667  0.814815  0.142857  0.142857\n",
      "5  0.333333  0.333333  0.629630  0.142857  0.428571\n",
      "6  0.111111  0.222222  0.740741  0.000000  0.428571\n",
      "7  0.666667  0.500000  0.074074  0.000000  0.071429\n",
      "8  0.111111  0.166667  0.444444  0.142857  0.571429\n",
      "9  0.333333  0.388889  0.592593  0.857143  0.071429\n"
     ]
    }
   ],
   "source": [
    "mmscaler = MinMaxScaler()\n",
    "data_norm = pd.DataFrame(mmscaler.fit_transform(predictors))\n",
    "data_norm.columns = ['raven', 'motion', 'vispa', 'nwrt', 'wm']\n",
    "print((data_norm).head(10))"
   ]
  },
  {
   "cell_type": "code",
   "execution_count": 50,
   "metadata": {},
   "outputs": [
    {
     "name": "stdout",
     "output_type": "stream",
     "text": [
      "0      1\n",
      "1      1\n",
      "2      1\n",
      "3      2\n",
      "4      1\n",
      "      ..\n",
      "109    2\n",
      "110    2\n",
      "111    2\n",
      "112    2\n",
      "113    1\n",
      "Name: output, Length: 114, dtype: category\n",
      "Categories (2, int64): [1, 2]\n",
      "        raven    motion     vispa      nwrt        wm\n",
      "0    0.111111  0.722222  0.111111  0.714286  0.214286\n",
      "1    0.222222  0.166667  0.370370  0.142857  0.642857\n",
      "2    0.222222  0.388889  0.481481  0.142857  0.571429\n",
      "3    0.222222  0.166667  0.703704  0.571429  0.642857\n",
      "4    0.555556  0.166667  0.814815  0.142857  0.142857\n",
      "..        ...       ...       ...       ...       ...\n",
      "109  0.333333  0.166667  1.000000  0.428571  0.785714\n",
      "110  0.333333  0.555556  0.444444  0.142857  0.928571\n",
      "111  0.444444  0.500000  0.629630  0.571429  1.000000\n",
      "112  0.444444  0.222222  0.703704  0.285714  0.857143\n",
      "113  0.666667  0.333333  0.592593  0.428571  0.428571\n",
      "\n",
      "[114 rows x 5 columns]\n"
     ]
    }
   ],
   "source": [
    "x = data_norm[['raven', 'motion', 'vispa', 'nwrt', 'wm']]\n",
    "y = data.output\n",
    "print(y)\n",
    "print(x)"
   ]
  },
  {
   "cell_type": "code",
   "execution_count": 51,
   "metadata": {},
   "outputs": [
    {
     "data": {
      "text/plain": [
       "(91, 5)"
      ]
     },
     "execution_count": 51,
     "metadata": {},
     "output_type": "execute_result"
    }
   ],
   "source": [
    "x_train, x_test, y_train, y_test =\\\n",
    "            train_test_split(x, y, test_size = 0.20, stratify = y, random_state = 1)\n",
    "x_train.shape"
   ]
  },
  {
   "cell_type": "code",
   "execution_count": 53,
   "metadata": {},
   "outputs": [],
   "source": [
    "tree = DecisionTreeClassifier(criterion = 'entropy',\n",
    "                             random_state = 1, \n",
    "                              max_depth = 5)"
   ]
  },
  {
   "cell_type": "code",
   "execution_count": 54,
   "metadata": {},
   "outputs": [],
   "source": [
    "ada = AdaBoostClassifier(base_estimator = tree,\n",
    "                         n_estimators = 500,\n",
    "                         learning_rate = 0.1)"
   ]
  },
  {
   "cell_type": "code",
   "execution_count": 55,
   "metadata": {},
   "outputs": [],
   "source": [
    "ada = ada.fit(x_train, y_train)"
   ]
  },
  {
   "cell_type": "code",
   "execution_count": 56,
   "metadata": {},
   "outputs": [
    {
     "name": "stdout",
     "output_type": "stream",
     "text": [
      "AdaBoost train/test accuracies 1.000/0.913\n",
      "[1 1 1 1 2 1 2 1 1 2 2 2 1 1 2 2 2 1 1 1 1 1 2]\n",
      "[2 1 1 1 1 1 2 1 1 1 2 1 1 2 1 1 2 1 1 2 1 1 1 1 1 1 1 1 2 1 1 1 2 2 2 2 1\n",
      " 2 2 2 1 1 2 1 2 1 2 1 1 1 2 2 2 1 1 1 1 2 1 1 2 2 2 1 1 1 1 2 1 2 2 2 1 2\n",
      " 2 2 1 1 1 2 1 2 2 1 1 1 2 2 2 1 1]\n"
     ]
    }
   ],
   "source": [
    "y_train_pred = ada.predict(x_train)\n",
    "y_test_pred = ada.predict(x_test)\n",
    "ada_train = accuracy_score(y_train, y_train_pred)\n",
    "ada_test = accuracy_score(y_test, y_test_pred)\n",
    "print('AdaBoost train/test accuracies %.3f/%.3f' % (ada_train, ada_test))\n",
    "print(y_test_pred)\n",
    "print(y_train_pred)"
   ]
  }
 ],
 "metadata": {
  "kernelspec": {
   "display_name": "Python 3",
   "language": "python",
   "name": "python3"
  },
  "language_info": {
   "codemirror_mode": {
    "name": "ipython",
    "version": 3
   },
   "file_extension": ".py",
   "mimetype": "text/x-python",
   "name": "python",
   "nbconvert_exporter": "python",
   "pygments_lexer": "ipython3",
   "version": "3.8.5"
  }
 },
 "nbformat": 4,
 "nbformat_minor": 4
}
