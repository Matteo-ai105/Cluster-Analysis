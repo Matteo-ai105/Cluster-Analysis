{
 "cells": [
  {
   "cell_type": "markdown",
   "metadata": {},
   "source": [
    "Unsupervised K-means clustering analysis of unlabelled data"
   ]
  },
  {
   "cell_type": "code",
   "execution_count": 102,
   "metadata": {},
   "outputs": [],
   "source": [
    "import pandas as pd\n",
    "import numpy as np\n",
    "from sklearn.preprocessing import minmax_scale\n",
    "from sklearn.cluster import KMeans\n",
    "from sklearn.cluster import DBSCAN\n",
    "from sklearn import metrics\n",
    "from sklearn.metrics import silhouette_samples\n",
    "import matplotlib.pyplot as plt\n",
    "from matplotlib import cm\n",
    "from sklearn.neighbors import NearestNeighbors"
   ]
  },
  {
   "cell_type": "raw",
   "metadata": {},
   "source": [
    "Importing database"
   ]
  },
  {
   "cell_type": "code",
   "execution_count": 122,
   "metadata": {},
   "outputs": [
    {
     "data": {
      "text/html": [
       "<div>\n",
       "<style scoped>\n",
       "    .dataframe tbody tr th:only-of-type {\n",
       "        vertical-align: middle;\n",
       "    }\n",
       "\n",
       "    .dataframe tbody tr th {\n",
       "        vertical-align: top;\n",
       "    }\n",
       "\n",
       "    .dataframe thead th {\n",
       "        text-align: right;\n",
       "    }\n",
       "</style>\n",
       "<table border=\"1\" class=\"dataframe\">\n",
       "  <thead>\n",
       "    <tr style=\"text-align: right;\">\n",
       "      <th></th>\n",
       "      <th>raven</th>\n",
       "      <th>motion</th>\n",
       "      <th>vispa</th>\n",
       "      <th>nwrt</th>\n",
       "      <th>wm</th>\n",
       "    </tr>\n",
       "  </thead>\n",
       "  <tbody>\n",
       "    <tr>\n",
       "      <th>0</th>\n",
       "      <td>1</td>\n",
       "      <td>14</td>\n",
       "      <td>13</td>\n",
       "      <td>6</td>\n",
       "      <td>5</td>\n",
       "    </tr>\n",
       "    <tr>\n",
       "      <th>1</th>\n",
       "      <td>2</td>\n",
       "      <td>4</td>\n",
       "      <td>20</td>\n",
       "      <td>2</td>\n",
       "      <td>11</td>\n",
       "    </tr>\n",
       "    <tr>\n",
       "      <th>2</th>\n",
       "      <td>2</td>\n",
       "      <td>8</td>\n",
       "      <td>23</td>\n",
       "      <td>2</td>\n",
       "      <td>10</td>\n",
       "    </tr>\n",
       "    <tr>\n",
       "      <th>3</th>\n",
       "      <td>2</td>\n",
       "      <td>4</td>\n",
       "      <td>29</td>\n",
       "      <td>5</td>\n",
       "      <td>11</td>\n",
       "    </tr>\n",
       "    <tr>\n",
       "      <th>4</th>\n",
       "      <td>5</td>\n",
       "      <td>4</td>\n",
       "      <td>32</td>\n",
       "      <td>2</td>\n",
       "      <td>4</td>\n",
       "    </tr>\n",
       "    <tr>\n",
       "      <th>5</th>\n",
       "      <td>3</td>\n",
       "      <td>7</td>\n",
       "      <td>27</td>\n",
       "      <td>2</td>\n",
       "      <td>8</td>\n",
       "    </tr>\n",
       "    <tr>\n",
       "      <th>6</th>\n",
       "      <td>1</td>\n",
       "      <td>5</td>\n",
       "      <td>30</td>\n",
       "      <td>1</td>\n",
       "      <td>8</td>\n",
       "    </tr>\n",
       "    <tr>\n",
       "      <th>7</th>\n",
       "      <td>6</td>\n",
       "      <td>10</td>\n",
       "      <td>12</td>\n",
       "      <td>1</td>\n",
       "      <td>3</td>\n",
       "    </tr>\n",
       "    <tr>\n",
       "      <th>8</th>\n",
       "      <td>1</td>\n",
       "      <td>4</td>\n",
       "      <td>22</td>\n",
       "      <td>2</td>\n",
       "      <td>10</td>\n",
       "    </tr>\n",
       "    <tr>\n",
       "      <th>9</th>\n",
       "      <td>3</td>\n",
       "      <td>8</td>\n",
       "      <td>26</td>\n",
       "      <td>7</td>\n",
       "      <td>3</td>\n",
       "    </tr>\n",
       "  </tbody>\n",
       "</table>\n",
       "</div>"
      ],
      "text/plain": [
       "   raven  motion  vispa  nwrt  wm\n",
       "0      1      14     13     6   5\n",
       "1      2       4     20     2  11\n",
       "2      2       8     23     2  10\n",
       "3      2       4     29     5  11\n",
       "4      5       4     32     2   4\n",
       "5      3       7     27     2   8\n",
       "6      1       5     30     1   8\n",
       "7      6      10     12     1   3\n",
       "8      1       4     22     2  10\n",
       "9      3       8     26     7   3"
      ]
     },
     "execution_count": 122,
     "metadata": {},
     "output_type": "execute_result"
    }
   ],
   "source": [
    "data = pd.read_excel('Standardization_new.xlsx')\n",
    "data = data.drop('ID', axis = 1)\n",
    "data.head(10)                     "
   ]
  },
  {
   "cell_type": "raw",
   "metadata": {},
   "source": [
    "Normalization using min-max scaling from sklearn"
   ]
  },
  {
   "cell_type": "code",
   "execution_count": 69,
   "metadata": {},
   "outputs": [
    {
     "data": {
      "text/html": [
       "<div>\n",
       "<style scoped>\n",
       "    .dataframe tbody tr th:only-of-type {\n",
       "        vertical-align: middle;\n",
       "    }\n",
       "\n",
       "    .dataframe tbody tr th {\n",
       "        vertical-align: top;\n",
       "    }\n",
       "\n",
       "    .dataframe thead th {\n",
       "        text-align: right;\n",
       "    }\n",
       "</style>\n",
       "<table border=\"1\" class=\"dataframe\">\n",
       "  <thead>\n",
       "    <tr style=\"text-align: right;\">\n",
       "      <th></th>\n",
       "      <th>raven</th>\n",
       "      <th>motion</th>\n",
       "      <th>vispa</th>\n",
       "      <th>nwrt</th>\n",
       "      <th>wm</th>\n",
       "    </tr>\n",
       "  </thead>\n",
       "  <tbody>\n",
       "    <tr>\n",
       "      <th>0</th>\n",
       "      <td>0.111111</td>\n",
       "      <td>0.722222</td>\n",
       "      <td>0.111111</td>\n",
       "      <td>0.714286</td>\n",
       "      <td>0.214286</td>\n",
       "    </tr>\n",
       "    <tr>\n",
       "      <th>1</th>\n",
       "      <td>0.222222</td>\n",
       "      <td>0.166667</td>\n",
       "      <td>0.370370</td>\n",
       "      <td>0.142857</td>\n",
       "      <td>0.642857</td>\n",
       "    </tr>\n",
       "    <tr>\n",
       "      <th>2</th>\n",
       "      <td>0.222222</td>\n",
       "      <td>0.388889</td>\n",
       "      <td>0.481481</td>\n",
       "      <td>0.142857</td>\n",
       "      <td>0.571429</td>\n",
       "    </tr>\n",
       "    <tr>\n",
       "      <th>3</th>\n",
       "      <td>0.222222</td>\n",
       "      <td>0.166667</td>\n",
       "      <td>0.703704</td>\n",
       "      <td>0.571429</td>\n",
       "      <td>0.642857</td>\n",
       "    </tr>\n",
       "    <tr>\n",
       "      <th>4</th>\n",
       "      <td>0.555556</td>\n",
       "      <td>0.166667</td>\n",
       "      <td>0.814815</td>\n",
       "      <td>0.142857</td>\n",
       "      <td>0.142857</td>\n",
       "    </tr>\n",
       "    <tr>\n",
       "      <th>5</th>\n",
       "      <td>0.333333</td>\n",
       "      <td>0.333333</td>\n",
       "      <td>0.629630</td>\n",
       "      <td>0.142857</td>\n",
       "      <td>0.428571</td>\n",
       "    </tr>\n",
       "    <tr>\n",
       "      <th>6</th>\n",
       "      <td>0.111111</td>\n",
       "      <td>0.222222</td>\n",
       "      <td>0.740741</td>\n",
       "      <td>0.000000</td>\n",
       "      <td>0.428571</td>\n",
       "    </tr>\n",
       "    <tr>\n",
       "      <th>7</th>\n",
       "      <td>0.666667</td>\n",
       "      <td>0.500000</td>\n",
       "      <td>0.074074</td>\n",
       "      <td>0.000000</td>\n",
       "      <td>0.071429</td>\n",
       "    </tr>\n",
       "    <tr>\n",
       "      <th>8</th>\n",
       "      <td>0.111111</td>\n",
       "      <td>0.166667</td>\n",
       "      <td>0.444444</td>\n",
       "      <td>0.142857</td>\n",
       "      <td>0.571429</td>\n",
       "    </tr>\n",
       "    <tr>\n",
       "      <th>9</th>\n",
       "      <td>0.333333</td>\n",
       "      <td>0.388889</td>\n",
       "      <td>0.592593</td>\n",
       "      <td>0.857143</td>\n",
       "      <td>0.071429</td>\n",
       "    </tr>\n",
       "  </tbody>\n",
       "</table>\n",
       "</div>"
      ],
      "text/plain": [
       "      raven    motion     vispa      nwrt        wm\n",
       "0  0.111111  0.722222  0.111111  0.714286  0.214286\n",
       "1  0.222222  0.166667  0.370370  0.142857  0.642857\n",
       "2  0.222222  0.388889  0.481481  0.142857  0.571429\n",
       "3  0.222222  0.166667  0.703704  0.571429  0.642857\n",
       "4  0.555556  0.166667  0.814815  0.142857  0.142857\n",
       "5  0.333333  0.333333  0.629630  0.142857  0.428571\n",
       "6  0.111111  0.222222  0.740741  0.000000  0.428571\n",
       "7  0.666667  0.500000  0.074074  0.000000  0.071429\n",
       "8  0.111111  0.166667  0.444444  0.142857  0.571429\n",
       "9  0.333333  0.388889  0.592593  0.857143  0.071429"
      ]
     },
     "execution_count": 69,
     "metadata": {},
     "output_type": "execute_result"
    }
   ],
   "source": [
    "data_norm = pd.DataFrame(minmax_scale(data))\n",
    "data_norm.columns = ['raven', 'motion', 'vispa', 'nwrt', 'wm']\n",
    "data_norm.head(10)"
   ]
  },
  {
   "cell_type": "raw",
   "metadata": {},
   "source": [
    "Apply the K-means clustering to the database and plot the best number of clusters using elbow method"
   ]
  },
  {
   "cell_type": "code",
   "execution_count": 124,
   "metadata": {},
   "outputs": [
    {
     "data": {
      "image/png": "[encoded data removed]",
      "text/plain": [
       "<Figure size 432x288 with 1 Axes>"
      ]
     },
     "metadata": {
      "needs_background": "light"
     },
     "output_type": "display_data"
    }
   ],
   "source": [
    "distortions = []\n",
    "for i in range (1,15):\n",
    "    data_km = KMeans(n_clusters=i,\n",
    "                         init='k-means++',\n",
    "                         n_init = 10,\n",
    "                         max_iter = 500,\n",
    "                         tol = 1e-04,\n",
    "                         random_state = 0)\n",
    "    data_km.fit(data_norm)\n",
    "    distortions.append(data_km.inertia_)\n",
    "plt.plot(range(1,15), distortions, marker = 'o')\n",
    "plt.xlabel('Number of Clusters')\n",
    "plt.ylabel('Distortion')\n",
    "plt.tight_layout()\n",
    "plt.show()"
   ]
  },
  {
   "cell_type": "code",
   "execution_count": 116,
   "metadata": {},
   "outputs": [],
   "source": [
    "data_km2 = KMeans(n_clusters=2,\n",
    "                         init='k-means++',\n",
    "                         n_init = 10,\n",
    "                         max_iter = 500,\n",
    "                         tol = 1e-04,\n",
    "                         random_state = 0)\n",
    "y_km2 = data_km2.fit_predict(data_norm)"
   ]
  },
  {
   "cell_type": "code",
   "execution_count": 117,
   "metadata": {},
   "outputs": [],
   "source": [
    "cluster_labels = np.unique(y_km2)\n",
    "n_clusters = cluster_labels.shape[0]\n",
    "silhouette_vals = silhouette_samples(data_norm,\n",
    "                                    y_km2,\n",
    "                                    metric = 'euclidean')"
   ]
  },
  {
   "cell_type": "code",
   "execution_count": 118,
   "metadata": {},
   "outputs": [
    {
     "data": {
      "image/png": "[encoded data removed]",
      "text/plain": [
       "<Figure size 432x288 with 1 Axes>"
      ]
     },
     "metadata": {
      "needs_background": "light"
     },
     "output_type": "display_data"
    }
   ],
   "source": [
    "y_ax_lower, y_ax_upper = 0,0\n",
    "yticks = []\n",
    "for i, c in enumerate(cluster_labels):\n",
    "    c_silhouette_vals = silhouette_vals[y_km2 == c]\n",
    "    c_silhouette_vals.sort()\n",
    "    y_ax_upper += len(c_silhouette_vals)\n",
    "    color = cm.jet(float(i) / n_clusters)\n",
    "    plt.barh(range(y_ax_lower, y_ax_upper),\n",
    "            c_silhouette_vals,\n",
    "            height = 1.0,\n",
    "            edgecolor = 'none',\n",
    "            color = color)\n",
    "    yticks.append((y_ax_lower + y_ax_upper) / 2.)\n",
    "    y_ax_lower += len(c_silhouette_vals)\n",
    "silhouette_avg = np.mean(silhouette_vals)\n",
    "plt.axvline(silhouette_avg,\n",
    "           color = 'red',\n",
    "           linestyle = '--')\n",
    "plt.yticks(yticks, cluster_labels + 1)\n",
    "plt.ylabel('Cluster')\n",
    "plt.xlabel('Silhouette Coefficient')\n",
    "plt.tight_layout()\n",
    "plt.show()"
   ]
  },
  {
   "cell_type": "code",
   "execution_count": 119,
   "metadata": {},
   "outputs": [
    {
     "name": "stdout",
     "output_type": "stream",
     "text": [
      "Silhouette Coefficient for the Proffilo Dataset Clusters: 0.26\n"
     ]
    }
   ],
   "source": [
    "s2 = metrics.silhouette_score(data_norm, data_km2.labels_)\n",
    "print(f'Silhouette Coefficient for the Proffilo Dataset Clusters: {s2:.2f}')  "
   ]
  },
  {
   "cell_type": "raw",
   "metadata": {},
   "source": [
    "DBSCAN clustering comparing with the previous K-means clustering"
   ]
  },
  {
   "cell_type": "code",
   "execution_count": 120,
   "metadata": {},
   "outputs": [
    {
     "name": "stdout",
     "output_type": "stream",
     "text": [
      "[ 0  0  0  0  0  0  0  0  0  0  0  0  0  0  0  0  0  0  0  0  0  0  0  0\n",
      "  0  0  0  0  0  0  0  0  0  0  0  0  0  0  0  0  0  0  0  0  0  0  0  0\n",
      "  0  0  0  0  0  0  0  0 -1  0  0  0  0  0  0  0  0  0  0  0  0  0  0  0\n",
      "  0  0  0  0  0  0  0  0  0  0  0  0  0  0  0  0  0  0  0  0  0  0  0  0\n",
      "  0  0  0  0  0  0  0  0  0  0  0  0  0  0  0  0  0  0]\n"
     ]
    }
   ],
   "source": [
    "data_db = DBSCAN(eps = 0.6,\n",
    "                min_samples = 5)\n",
    "data_db.fit(data_norm)\n",
    "labels = data_db.labels_\n",
    "print(labels)"
   ]
  },
  {
   "cell_type": "code",
   "execution_count": 121,
   "metadata": {},
   "outputs": [
    {
     "name": "stdout",
     "output_type": "stream",
     "text": [
      "Estimated number of clusters: 1\n",
      "Estimated number of noise points: 1\n",
      "Silhouette Coefficient for the Proffilo Dataset Clusters: 0.43\n"
     ]
    }
   ],
   "source": [
    "core_samples_mask = np.zeros_like(labels, dtype=bool)\n",
    "core_samples_mask[data_db.core_sample_indices_] = True\n",
    "n_clusters_ = len(set(labels)) - (1 if -1 in labels else 0)\n",
    "n_noise_ = list(labels).count(-1)\n",
    "print('Estimated number of clusters: %d' % n_clusters_)\n",
    "print('Estimated number of noise points: %d' % n_noise_)\n",
    "s = metrics.silhouette_score(data_norm, data_db.labels_)\n",
    "print(f'Silhouette Coefficient for the Proffilo Dataset Clusters: {s:.2f}')  "
   ]
  },
  {
   "cell_type": "raw",
   "metadata": {},
   "source": [
    "Using nearest neighbor to address the optimal value of eps"
   ]
  },
  {
   "cell_type": "code",
   "execution_count": 103,
   "metadata": {},
   "outputs": [
    {
     "name": "stdout",
     "output_type": "stream",
     "text": [
      "[0.06676947 0.06676947 0.07142857 0.09259259 0.09259259 0.09777629\n",
      " 0.09777629 0.09777629 0.09777629 0.09777629 0.11111111 0.11111111\n",
      " 0.124226   0.13353894 0.13353894 0.13718404 0.13718404 0.13718404\n",
      " 0.14285714 0.14285714 0.14285714 0.14463425 0.14814815 0.14814815\n",
      " 0.15144203 0.15144203 0.15713484 0.15822229 0.15822229 0.15822229\n",
      " 0.16131059 0.1614407  0.16395715 0.16910536 0.16910536 0.16910536\n",
      " 0.17023969 0.1707323  0.1707323  0.17260764 0.1735982  0.1735982\n",
      " 0.17606014 0.17653651 0.17653651 0.18098023 0.18132793 0.18461742\n",
      " 0.18473111 0.18473111 0.18507177 0.18507177 0.18783069 0.18783069\n",
      " 0.18931525 0.18931525 0.19456588 0.19555258 0.19555258 0.19555258\n",
      " 0.19805965 0.2003084  0.20234204 0.20570378 0.20611165 0.21266287\n",
      " 0.21277803 0.21596118 0.22222222 0.22405705 0.22405705 0.22405705\n",
      " 0.22491441 0.22491441 0.22906142 0.23167415 0.23379419 0.24039163\n",
      " 0.24243546 0.24286809 0.25077914 0.25111381 0.25885402 0.25925926\n",
      " 0.26190476 0.26190476 0.26451058 0.2648279  0.26605393 0.28659476\n",
      " 0.28689985 0.29106541 0.30145964 0.30980632 0.31611266 0.32893716\n",
      " 0.33043376 0.3471964  0.349657   0.35136418 0.35325138 0.35325138\n",
      " 0.36100208 0.36100208 0.37697252 0.406582   0.42164034 0.44537255\n",
      " 0.44579663 0.45419513 0.49676313 0.59030288 0.59545557 0.61917197]\n"
     ]
    },
    {
     "data": {
      "image/png": "[encoded data removed]",
      "text/plain": [
       "<Figure size 432x288 with 1 Axes>"
      ]
     },
     "metadata": {
      "needs_background": "light"
     },
     "output_type": "display_data"
    }
   ],
   "source": [
    "nearest_neighbors = NearestNeighbors(n_neighbors=5)\n",
    "nearest_neighbors.fit(data_norm)\n",
    "distances, indices = nearest_neighbors.kneighbors(data_norm)\n",
    "distances = np.sort(distances, axis=0)[:, 1]\n",
    "print(distances)\n",
    "plt.plot(distances)\n",
    "plt.show()"
   ]
  },
  {
   "cell_type": "raw",
   "metadata": {},
   "source": []
  }
 ],
 "metadata": {
  "kernelspec": {
   "display_name": "Python 3",
   "language": "python",
   "name": "python3"
  },
  "language_info": {
   "codemirror_mode": {
    "name": "ipython",
    "version": 3
   },
   "file_extension": ".py",
   "mimetype": "text/x-python",
   "name": "python",
   "nbconvert_exporter": "python",
   "pygments_lexer": "ipython3",
   "version": "3.8.5"
  }
 },
 "nbformat": 4,
 "nbformat_minor": 4
}
